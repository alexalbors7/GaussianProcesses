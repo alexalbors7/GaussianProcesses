{
 "cells": [
  {
   "cell_type": "markdown",
   "id": "76f10caa",
   "metadata": {},
   "source": [
    "Now we move on to the first nonlinear PDE, which we solve both eliminating variables and relaxing equality constraints, and then applying the Levenberg-Marquardt algorithm. First need to construct differential operators, etc. etc. "
   ]
  },
  {
   "cell_type": "code",
   "execution_count": 29,
   "id": "56999611",
   "metadata": {},
   "outputs": [],
   "source": [
    "import jax\n",
    "import numpy as np\n",
    "import matplotlib.pyplot as plt\n",
    "import jax.numpy as jnp\n",
    "import jax.random as random\n",
    "from jax import vmap, grad, jacobian\n",
    "\n",
    "jax.config.update(\"jax_enable_x64\",True)\n",
    "\n",
    "key = random.key(619420)\n",
    "key1, key2 = random.split(key)"
   ]
  },
  {
   "cell_type": "markdown",
   "id": "7e9dd555",
   "metadata": {},
   "source": [
    "Burgers' equation is given by $$ \\partial_t u  + u \\partial_s u  - \\nu \\partial_s^2 u = 0, \\quad (s, t) \\in (-1, 1) \\times (0, 1]$$ with $$u(s, 0) = \\sin(\\pi s), \\quad u(-1, t) = u(1, t) =0 $$ and take $\\nu = 0.002$. "
   ]
  },
  {
   "cell_type": "markdown",
   "id": "c9008fca",
   "metadata": {},
   "source": [
    "First define the anisotropic kernel we will be using:"
   ]
  },
  {
   "cell_type": "code",
   "execution_count": 30,
   "metadata": {},
   "outputs": [],
   "source": [
    "nu = 0.02\n",
    "SIGMA = jnp.array([1/20, 1/3])\n",
    "\n",
    "def get_k(sigma):\n",
    "    def k(x1, x2):\n",
    "        return jnp.exp(-(1/sigma[0]**2)*(x1[0] - x2[0])**2 - (1/sigma[1]**2)*(x1[1] - x2[1])**2)\n",
    "    return k"
   ]
  },
  {
   "cell_type": "markdown",
   "id": "fac355b0",
   "metadata": {},
   "source": [
    "For the following, we assume $x = (s, t) \\in \\R^2$, and for JAX we define the argument to the differential operators as depending only on $x$, hence to differentiate kernel functions we need a wrapper that isolates either $x$ or $y$ "
   ]
  },
  {
   "cell_type": "code",
   "execution_count": null,
   "id": "5b19bf9b",
   "metadata": {},
   "outputs": [],
   "source": [
    "# L represent the functionals, missing composition with evaluation functionals. \n",
    "# fun wrt t\n",
    "def L1(fun, argnums):\n",
    "    def function(x, y):\n",
    "        return grad(fun, argnums)(x, y)[1]\n",
    "    return function\n",
    "\n",
    "# fun wrt s\n",
    "def L2(fun, argnums):\n",
    "    def function(x, y):\n",
    "        return grad(fun, argnums)(x, y)[0]\n",
    "    return function\n",
    "\n",
    "# partial_s^2 fun\n",
    "def L3(fun, argnums):\n",
    "    def function(x, y):\n",
    "        return L2(L2(fun, argnums), argnums)(x, y)\n",
    "    return function\n",
    "\n",
    "def L4(fun):\n",
    "    return fun\n",
    "\n",
    "# Interior operator\n",
    "def P(v1, v2, v3, v4):\n",
    "    return v1 + v4*v2 - nu*v3\n",
    "\n",
    "# Boundary operator\n",
    "def B(u1, argnums = None):\n",
    "    return u1\n",
    "\n",
    "operators = {\"L1\": L1, \"L2\":L2, \"L3\":L3, \"L4\": L4, \"L5\": B}\n",
    "\n",
    "def get_P_ker(kernel, argnums):\n",
    "    def curlyP(x1, x2):\n",
    "        return P(L1(kernel, argnums)(x1, x2), L2(kernel, argnums)(x1, x2), L3(kernel, argnums)(x1, x2), L4(kernel)(x1, x2))\n",
    "    return curlyP\n",
    "    \n",
    "\n",
    "\n",
    "# For a univariate function $u(x)$, we may simply kernelize $u$ by considering $k(x, y) = u(x)$.\n",
    "#  Can be done with lambda functions, such that this is solved with one line of code. \n",
    "# argnums = 0 because 1 would be wrt y, but y is not used. SANITY CHECK: argnums=1 should always return 0.0. \n",
    "def get_P_fun(fun):\n",
    "    return lambda x: get_P_ker(lambda x, y: fun(x), argnums=0)(x, x)"
   ]
  },
  {
   "cell_type": "code",
   "execution_count": null,
   "id": "9d9ec798",
   "metadata": {},
   "outputs": [],
   "source": [
    "\n",
    "kernel = get_k(SIGMA)\n",
    "curlyP = get_P_ker(kernel, argnums=0)\n",
    "bicurlyP = get_P_ker(curlyP, argnums=1)\n",
    "\n",
    "L1_K = L1(kernel, argnums=0)\n",
    "L2_K = L2(kernel, argnums=0)\n",
    "L3_K = L3(kernel, argnums=0)\n",
    "L4_K = L4(kernel)\n",
    "\n",
    "def vec_diff_combo(L_x, L_y, function, argnums = (0, 1)):\n",
    "    return vmap(vmap(L_y(L_x(function, argnums = argnums[0]), argnums = argnums[1]), in_axes = (None,0)), in_axes= (0, None)) \n",
    "\n",
    "\n",
    "vec_k = vmap(vmap(kernel, in_axes = (None,0)), in_axes=(0, None))\n",
    "vec_curlyP = vmap(vmap(curlyP, in_axes = (None,0)), in_axes=(0, None))\n",
    "vec_bicurlyP = vmap(vmap(bicurlyP, in_axes = (None,0)), in_axes=(0, None))\n",
    "\n",
    "\n",
    "first = vec_diff_combo(L1, L2, kernel)\n"
   ]
  },
  {
   "cell_type": "markdown",
   "id": "ad1eaca0",
   "metadata": {},
   "source": [
    "The domain is $\\Omega = [-1, 1] \\times (0, 1]$"
   ]
  },
  {
   "cell_type": "code",
   "execution_count": 35,
   "id": "a6dd6370",
   "metadata": {},
   "outputs": [
    {
     "data": {
      "image/png": "[encoded data removed]",
      "text/plain": [
       "<Figure size 640x480 with 1 Axes>"
      ]
     },
     "metadata": {},
     "output_type": "display_data"
    }
   ],
   "source": [
    "n_I = 20\n",
    "n_B = 10\n",
    "p = 1/2\n",
    "\n",
    "X_I = jnp.concatenate((2*random.uniform(key1, shape=(n_I, 1)) - 1, random.uniform(key2, shape=(n_I, 1))), axis=1)\n",
    "bd1 = jnp.concatenate((2*random.bernoulli(key1, p=p, shape=(n_B//2, 1))-1, random.uniform(key2, shape=(n_B//2, 1))), axis=1)\n",
    "bd2 = jnp.concatenate((2*random.uniform(key1, shape=(n_B//2, 1)) - 1, jnp.zeros(shape=(n_B//2, 1))), axis=1)\n",
    "X_B = jnp.concatenate((bd1, bd2), axis=0)\n",
    "\n",
    "plt.scatter(X_I[:, 0], X_I[:, 1])\n",
    "plt.scatter(X_B[:, 0], X_B[:, 1], color='r')\n",
    "plt.ylabel('$t$')\n",
    "plt.xlabel(\"$s$\")\n",
    "plt.grid()"
   ]
  },
  {
   "cell_type": "code",
   "execution_count": null,
   "id": "25f97e54",
   "metadata": {},
   "outputs": [
    {
     "name": "stdout",
     "output_type": "stream",
     "text": [
      "(20, 10)\n",
      "(30,)\n"
     ]
    }
   ],
   "source": [
    "y_I = jnp.zeros(X_I.shape[0])\n",
    "y_B = jnp.concatenate((jnp.zeros(shape=(n_B//2)), jnp.sin(jnp.pi*X_B[:n_B//2, 0])), axis=0)\n",
    "y = jnp.concatenate((y_I, y_B))\n",
    "\n",
    "print(first(X_I, X_B))\n",
    "print()\n",
    "\n",
    "# Wrong lel\n",
    "K_II = vec_bicurlyP(X_I, X_I)\n",
    "K_IB = vec_curlyP(X_I, X_B)\n",
    "K_BI = K_IB.T\n",
    "K_BB = vec_k(X_B, X_B)\n",
    "\n",
    "K = jnp.block([\n",
    "    [K_II, K_IB],\n",
    "    [K_BI, K_BB]\n",
    "])\n",
    "\n",
    "# 4 differential operators, 1 boundary operator\n",
    "Q   = 5 \n",
    "Q_I = 4\n",
    "\n",
    "N = n_I*Q_I + n_B*(Q - Q_I) # total number of functionals and point evaluations\n",
    "\n",
    "\n",
    "def F(z):\n",
    "    # z  dim N\n",
    "    z_B = z[:n_B]\n",
    "    z_I = z[n_B:].reshape((n_I, Q_I))\n",
    "    \n",
    "    F_vec = jnp.concatenate((P(*jnp.hsplit(z_I, Q_I)).flatten(), B(*jnp.split(z_B, Q-Q_I)).flatten()))\n",
    "\n",
    "    return F_vec\n",
    "\n",
    "z = jnp.ones((N, ))\n",
    "\n",
    "print(F(z).shape)\n"
   ]
  },
  {
   "cell_type": "markdown",
   "id": "4741c46d",
   "metadata": {},
   "source": [
    "Now gotta set up the minimization problem:\n",
    "\n",
    "$$ \\mathrm{minimize}_{z} \\hspace{5pt} z^\\top K_{\\phi, \\phi}^{-1} z \\quad s.t. \\quad F(z) = y$$ \n",
    "\n",
    "which we relax to  \n",
    "$$ \\mathrm{minimize}_{z} \\hspace{5pt} z^\\top K_{\\phi, \\phi}^{-1} z + \\frac{1}{\\beta^2} \\|F(z) - y\\|^2$$ \n",
    "\n",
    "and use the LM algorithm. "
   ]
  },
  {
   "cell_type": "code",
   "execution_count": 50,
   "id": "ff243203",
   "metadata": {},
   "outputs": [],
   "source": [
    "def relaxed_LM(K, F ,y, beta, max_iters, x0, tol = 1e-8, reg = 1e-10, verbose = False):\n",
    "    errs = []\n",
    "    x = x0\n",
    "    obj_val = jnp.linalg.norm(F(x) - y)\n",
    "\n",
    "    errs.append(obj_val)\n",
    "    for iter in range(max_iters):\n",
    "        \n",
    "        Jac = jacobian(F)(x)\n",
    "\n",
    "        print(\"J\", Jac.shape)\n",
    "\n",
    "        C = Jac.T @ Jac/beta**2+ reg*jnp.eye(len(x))\n",
    "\n",
    "        print(\"C\", C.shape)\n",
    "        print(\"K\", K.shape)\n",
    "\n",
    "        x = 1/beta**2 * K @ (Jac.T @ (y - F(x)) - jnp.linalg.solve(jnp.eye(len(x)) + C @ K, K @ Jac.T @ (y - F(x))))\n",
    "\n",
    "        obj_val = jnp.linalg.norm(F(x) - y)\n",
    "        errs.append(obj_val)\n",
    "        if verbose: print(iter, obj_val)\n",
    "        if obj_val < tol:\n",
    "            return x, errs\n",
    "\n",
    "    return x, errs"
   ]
  },
  {
   "cell_type": "code",
   "execution_count": 51,
   "id": "2221f594",
   "metadata": {},
   "outputs": [
    {
     "name": "stdout",
     "output_type": "stream",
     "text": [
      "J (30, 90)\n",
      "C (90, 90)\n",
      "K (30, 30)\n"
     ]
    },
    {
     "ename": "TypeError",
     "evalue": "dot_general requires contracting dimensions to have the same shape, got (90,) and (30,).",
     "output_type": "error",
     "traceback": [
      "\u001b[31m---------------------------------------------------------------------------\u001b[39m",
      "\u001b[31mTypeError\u001b[39m                                 Traceback (most recent call last)",
      "\u001b[36mCell\u001b[39m\u001b[36m \u001b[39m\u001b[32mIn[51]\u001b[39m\u001b[32m, line 1\u001b[39m\n\u001b[32m----> \u001b[39m\u001b[32m1\u001b[39m x, errs = \u001b[43mrelaxed_LM\u001b[49m\u001b[43m(\u001b[49m\u001b[43mK\u001b[49m\u001b[43m=\u001b[49m\u001b[43mK\u001b[49m\u001b[43m,\u001b[49m\u001b[43m \u001b[49m\u001b[43mF\u001b[49m\u001b[43m \u001b[49m\u001b[43m=\u001b[49m\u001b[43m \u001b[49m\u001b[43mF\u001b[49m\u001b[43m,\u001b[49m\u001b[43m \u001b[49m\u001b[43my\u001b[49m\u001b[43m \u001b[49m\u001b[43m=\u001b[49m\u001b[43m \u001b[49m\u001b[43my\u001b[49m\u001b[43m,\u001b[49m\u001b[43m \u001b[49m\u001b[43mx0\u001b[49m\u001b[43m \u001b[49m\u001b[43m=\u001b[49m\u001b[43m \u001b[49m\u001b[43mjnp\u001b[49m\u001b[43m.\u001b[49m\u001b[43mzeros_like\u001b[49m\u001b[43m(\u001b[49m\u001b[43mz\u001b[49m\u001b[43m)\u001b[49m\u001b[43m,\u001b[49m\u001b[43m \u001b[49m\u001b[43mbeta\u001b[49m\u001b[43m \u001b[49m\u001b[43m=\u001b[49m\u001b[43m \u001b[49m\u001b[32;43m0.5\u001b[39;49m\u001b[43m,\u001b[49m\u001b[43m \u001b[49m\u001b[43mmax_iters\u001b[49m\u001b[43m \u001b[49m\u001b[43m=\u001b[49m\u001b[43m \u001b[49m\u001b[32;43m1000\u001b[39;49m\u001b[43m,\u001b[49m\u001b[43m \u001b[49m\u001b[43mverbose\u001b[49m\u001b[43m=\u001b[49m\u001b[38;5;28;43;01mTrue\u001b[39;49;00m\u001b[43m)\u001b[49m\n",
      "\u001b[36mCell\u001b[39m\u001b[36m \u001b[39m\u001b[32mIn[50]\u001b[39m\u001b[32m, line 18\u001b[39m, in \u001b[36mrelaxed_LM\u001b[39m\u001b[34m(K, F, y, beta, max_iters, x0, tol, reg, verbose)\u001b[39m\n\u001b[32m     15\u001b[39m \u001b[38;5;28mprint\u001b[39m(\u001b[33m\"\u001b[39m\u001b[33mC\u001b[39m\u001b[33m\"\u001b[39m, C.shape)\n\u001b[32m     16\u001b[39m \u001b[38;5;28mprint\u001b[39m(\u001b[33m\"\u001b[39m\u001b[33mK\u001b[39m\u001b[33m\"\u001b[39m, K.shape)\n\u001b[32m---> \u001b[39m\u001b[32m18\u001b[39m x = \u001b[32m1\u001b[39m/beta**\u001b[32m2\u001b[39m * K @ (Jac.T @ (y - F(x)) - jnp.linalg.solve(jnp.eye(\u001b[38;5;28mlen\u001b[39m(x)) + \u001b[43mC\u001b[49m\u001b[43m \u001b[49m\u001b[43m@\u001b[49m\u001b[43m \u001b[49m\u001b[43mK\u001b[49m, K @ Jac.T @ (y - F(x))))\n\u001b[32m     20\u001b[39m obj_val = jnp.linalg.norm(F(x) - y)\n\u001b[32m     21\u001b[39m errs.append(obj_val)\n",
      "\u001b[36mFile \u001b[39m\u001b[32mc:\\Users\\Owner\\Desktop\\GaussianProcesses\\venv\\Lib\\site-packages\\jax\\_src\\numpy\\array_methods.py:579\u001b[39m, in \u001b[36m_defer_to_unrecognized_arg.<locals>.deferring_binary_op\u001b[39m\u001b[34m(self, other)\u001b[39m\n\u001b[32m    577\u001b[39m args = (other, \u001b[38;5;28mself\u001b[39m) \u001b[38;5;28;01mif\u001b[39;00m swap \u001b[38;5;28;01melse\u001b[39;00m (\u001b[38;5;28mself\u001b[39m, other)\n\u001b[32m    578\u001b[39m \u001b[38;5;28;01mif\u001b[39;00m \u001b[38;5;28misinstance\u001b[39m(other, _accepted_binop_types):\n\u001b[32m--> \u001b[39m\u001b[32m579\u001b[39m   \u001b[38;5;28;01mreturn\u001b[39;00m \u001b[43mbinary_op\u001b[49m\u001b[43m(\u001b[49m\u001b[43m*\u001b[49m\u001b[43margs\u001b[49m\u001b[43m)\u001b[49m\n\u001b[32m    580\u001b[39m \u001b[38;5;66;03m# Note: don't use isinstance here, because we don't want to raise for\u001b[39;00m\n\u001b[32m    581\u001b[39m \u001b[38;5;66;03m# subclasses, e.g. NamedTuple objects that may override operators.\u001b[39;00m\n\u001b[32m    582\u001b[39m \u001b[38;5;28;01mif\u001b[39;00m \u001b[38;5;28mtype\u001b[39m(other) \u001b[38;5;129;01min\u001b[39;00m _rejected_binop_types:\n",
      "    \u001b[31m[... skipping hidden 15 frame]\u001b[39m\n",
      "\u001b[36mFile \u001b[39m\u001b[32mc:\\Users\\Owner\\Desktop\\GaussianProcesses\\venv\\Lib\\site-packages\\jax\\_src\\numpy\\tensor_contractions.py:243\u001b[39m, in \u001b[36mmatmul\u001b[39m\u001b[34m(a, b, precision, preferred_element_type)\u001b[39m\n\u001b[32m    241\u001b[39m a = lax.squeeze(a, \u001b[38;5;28mtuple\u001b[39m(a_squeeze))\n\u001b[32m    242\u001b[39m b = lax.squeeze(b, \u001b[38;5;28mtuple\u001b[39m(b_squeeze))\n\u001b[32m--> \u001b[39m\u001b[32m243\u001b[39m out = \u001b[43mlax\u001b[49m\u001b[43m.\u001b[49m\u001b[43mdot_general\u001b[49m\u001b[43m(\u001b[49m\n\u001b[32m    244\u001b[39m \u001b[43m  \u001b[49m\u001b[43ma\u001b[49m\u001b[43m,\u001b[49m\u001b[43m \u001b[49m\u001b[43mb\u001b[49m\u001b[43m,\u001b[49m\u001b[43m \u001b[49m\u001b[43m(\u001b[49m\u001b[43m(\u001b[49m\u001b[43m(\u001b[49m\u001b[43mnp\u001b[49m\u001b[43m.\u001b[49m\u001b[43mndim\u001b[49m\u001b[43m(\u001b[49m\u001b[43ma\u001b[49m\u001b[43m)\u001b[49m\u001b[43m \u001b[49m\u001b[43m-\u001b[49m\u001b[43m \u001b[49m\u001b[32;43m1\u001b[39;49m\u001b[43m,\u001b[49m\u001b[43m)\u001b[49m\u001b[43m,\u001b[49m\u001b[43m \u001b[49m\u001b[43m(\u001b[49m\u001b[43mnp\u001b[49m\u001b[43m.\u001b[49m\u001b[43mndim\u001b[49m\u001b[43m(\u001b[49m\u001b[43mb\u001b[49m\u001b[43m)\u001b[49m\u001b[43m \u001b[49m\u001b[43m-\u001b[49m\u001b[43m \u001b[49m\u001b[32;43m1\u001b[39;49m\u001b[43m \u001b[49m\u001b[43m-\u001b[49m\u001b[43m \u001b[49m\u001b[43mb_is_mat\u001b[49m\u001b[43m,\u001b[49m\u001b[43m)\u001b[49m\u001b[43m)\u001b[49m\u001b[43m,\u001b[49m\u001b[43m \u001b[49m\u001b[43m(\u001b[49m\u001b[43ma_batch\u001b[49m\u001b[43m,\u001b[49m\u001b[43m \u001b[49m\u001b[43mb_batch\u001b[49m\u001b[43m)\u001b[49m\u001b[43m)\u001b[49m\u001b[43m,\u001b[49m\n\u001b[32m    245\u001b[39m \u001b[43m  \u001b[49m\u001b[43mprecision\u001b[49m\u001b[43m=\u001b[49m\u001b[43mprecision\u001b[49m\u001b[43m,\u001b[49m\u001b[43m \u001b[49m\u001b[43mpreferred_element_type\u001b[49m\u001b[43m=\u001b[49m\u001b[43mpreferred_element_type\u001b[49m\u001b[43m)\u001b[49m\n\u001b[32m    246\u001b[39m result = lax.transpose(out, perm)\n\u001b[32m    247\u001b[39m \u001b[38;5;28;01mreturn\u001b[39;00m lax_internal._convert_element_type(result, preferred_element_type, output_weak_type)\n",
      "    \u001b[31m[... skipping hidden 9 frame]\u001b[39m\n",
      "\u001b[36mFile \u001b[39m\u001b[32mc:\\Users\\Owner\\Desktop\\GaussianProcesses\\venv\\Lib\\site-packages\\jax\\_src\\lax\\lax.py:4977\u001b[39m, in \u001b[36m_dot_general_shape_rule\u001b[39m\u001b[34m(lhs, rhs, dimension_numbers, precision, preferred_element_type, out_sharding)\u001b[39m\n\u001b[32m   4974\u001b[39m \u001b[38;5;28;01mif\u001b[39;00m \u001b[38;5;129;01mnot\u001b[39;00m core.definitely_equal_shape(lhs_contracting_shape, rhs_contracting_shape):\n\u001b[32m   4975\u001b[39m   msg = (\u001b[33m\"\u001b[39m\u001b[33mdot_general requires contracting dimensions to have the same \u001b[39m\u001b[33m\"\u001b[39m\n\u001b[32m   4976\u001b[39m          \u001b[33m\"\u001b[39m\u001b[33mshape, got \u001b[39m\u001b[38;5;132;01m{}\u001b[39;00m\u001b[33m and \u001b[39m\u001b[38;5;132;01m{}\u001b[39;00m\u001b[33m.\u001b[39m\u001b[33m\"\u001b[39m)\n\u001b[32m-> \u001b[39m\u001b[32m4977\u001b[39m   \u001b[38;5;28;01mraise\u001b[39;00m \u001b[38;5;167;01mTypeError\u001b[39;00m(msg.format(lhs_contracting_shape, rhs_contracting_shape))\n\u001b[32m   4979\u001b[39m \u001b[38;5;28;01mreturn\u001b[39;00m _dot_general_shape_computation(lhs.shape, rhs.shape, dimension_numbers)\n",
      "\u001b[31mTypeError\u001b[39m: dot_general requires contracting dimensions to have the same shape, got (90,) and (30,)."
     ]
    }
   ],
   "source": [
    "x, errs = relaxed_LM(K=K, F = F, y = y, x0 = jnp.zeros_like(z), beta = 0.5, max_iters = 1000, verbose=True)"
   ]
  }
 ],
 "metadata": {
  "kernelspec": {
   "display_name": "venv",
   "language": "python",
   "name": "python3"
  },
  "language_info": {
   "codemirror_mode": {
    "name": "ipython",
    "version": 3
   },
   "file_extension": ".py",
   "mimetype": "text/x-python",
   "name": "python",
   "nbconvert_exporter": "python",
   "pygments_lexer": "ipython3",
   "version": "3.13.2"
  }
 },
 "nbformat": 4,
 "nbformat_minor": 5
}
