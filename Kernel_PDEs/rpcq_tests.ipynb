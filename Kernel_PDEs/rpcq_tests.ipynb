{
 "cells": [
  {
   "cell_type": "code",
   "execution_count": null,
   "id": "0f86925d",
   "metadata": {},
   "outputs": [],
   "source": [
    "import jax\n",
    "jax.config.update('jax_enable_x64', True)\n",
    "import jax.numpy as jnp\n",
    "from jax import grad, jacobian, vmap, random, hessian, jit\n",
    "from jax.scipy.linalg import solve_triangular\n",
    "import numpy as np\n",
    "import matplotlib.pyplot as plt"
   ]
  },
  {
   "cell_type": "code",
   "execution_count": 43,
   "id": "5498cbf7",
   "metadata": {},
   "outputs": [],
   "source": [
    "def rbf(gamma):\n",
    "    def kernel(x, y):\n",
    "        return jnp.exp(-gamma*jnp.sum((x-y)**2))\n",
    "    return kernel\n",
    "\n",
    "def lap(f, argnums):\n",
    "    hess = jit(hessian(f, argnums=argnums))\n",
    "    @jit\n",
    "    def laplacian(x, y):\n",
    "        return jnp.trace(hess(x, y))\n",
    "    return laplacian\n",
    "\n",
    "k = rbf(17) \n",
    "vec_k = vmap(vmap(k, (None, 0)), (0, None)) \n",
    "\n",
    "lapx = lap(k, argnums=0)\n",
    "vec_lapx = vmap(vmap(lapx, in_axes = (None,0)), in_axes = (0, None))\n",
    "\n",
    "lapx_lapy = lap(lapx, argnums=1)\n",
    "vec_lapx_lapy = vmap(vmap(lapx_lapy, in_axes = (None,0)), in_axes = (0, None))\n"
   ]
  },
  {
   "cell_type": "code",
   "execution_count": 44,
   "id": "0f8808ed",
   "metadata": {},
   "outputs": [],
   "source": [
    "def rpcq_finite(X, n, k):\n",
    "    # X is array of candidate points, n is number of quadrature nodes,\n",
    "    # k is kernel\n",
    "    L = np.zeros((n, n))\n",
    "    i = 0\n",
    "    N = X.shape[0]\n",
    "    diag = vmap(k, in_axes=(0, 0))(X, X)\n",
    "    S = []\n",
    "    trials = 0\n",
    "    k_vec = vmap(k, in_axes=(0, None))\n",
    "    while (i < n):\n",
    "        trials +=1\n",
    "        si = np.random.choice(N, p=(diag / np.sum(diag)))\n",
    "        xi = X[si]\n",
    "\n",
    "        Xs = X[S, :]\n",
    "        Ks_si = k_vec(Xs, xi)\n",
    "        c = solve_triangular(L[:i, :i], Ks_si, lower=True)\n",
    "        d = k(xi, xi) - jnp.dot(c, c)\n",
    "\n",
    "        U = np.random.rand()\n",
    "        if U < d / k(xi, xi):\n",
    "            S.append(si)\n",
    "            # print(\"Point\", i, \":\", trials, \"trials\")\n",
    "            trials = 0\n",
    "            L[i, :i] = (c)\n",
    "            L[i, i] = jnp.sqrt(d)\n",
    "            i += 1\n",
    "    return L, np.array(S)"
   ]
  },
  {
   "cell_type": "code",
   "execution_count": 45,
   "id": "846b8594",
   "metadata": {},
   "outputs": [],
   "source": [
    "x, y = jnp.linspace(0, 1, 80), jnp.linspace(0, 1, 80)\n",
    "X, Y = jnp.meshgrid(x, y)\n",
    "X_grid = jnp.concatenate((X.reshape(-1, 1), Y.reshape(-1, 1)), axis=1)\n",
    "K = vec_lapx_lapy(X_grid, X_grid)"
   ]
  },
  {
   "cell_type": "code",
   "execution_count": 46,
   "id": "860130cf",
   "metadata": {},
   "outputs": [
    {
     "name": "stdout",
     "output_type": "stream",
     "text": [
      "[5339 2455  591 5541  422 1815 5064 3410 2498 3507 4808 3385 5316 4499\n",
      " 4539 6169 5275 2121 5249 4005 1464 4288  940 5832 1349 2709 3206 6244\n",
      " 6336  216  851 2304 3000 2003 4068 3474  276 4589 1994  812  475  130\n",
      " 1697 6121 5874  919   77 3837 1889 6192 5280 6288 4094 2642 1434  640\n",
      " 4786  149  170 5486 5919  405 4042 2189 6079 1453 2986  978 5375 6224\n",
      " 2011 3055 3421 3180 2797 2357  902 4859 1798 4356]\n"
     ]
    }
   ],
   "source": [
    "L, S = rpcq_finite(X_grid, 80, lapx_lapy)\n",
    "print(S)"
   ]
  },
  {
   "cell_type": "markdown",
   "id": "cff90315",
   "metadata": {},
   "source": []
  },
  {
   "cell_type": "code",
   "execution_count": null,
   "id": "e870d963",
   "metadata": {},
   "outputs": [],
   "source": [
    "L_inv = solve_triangular(L, jnp.eye(L.shape[0]), lower=True)\n",
    "L_app = K[:, S] @ L_inv.T\n",
    "K_app = L_app @ L_app.T\n",
    "err = jnp.linalg.norm(K - K_app) / jnp.linalg.norm(K)\n",
    "print(err)"
   ]
  },
  {
   "cell_type": "code",
   "execution_count": null,
   "id": "3df29c3a",
   "metadata": {},
   "outputs": [
    {
     "data": {
      "image/png": "[encoded data removed]",
      "text/plain": [
       "<Figure size 600x600 with 1 Axes>"
      ]
     },
     "metadata": {},
     "output_type": "display_data"
    }
   ],
   "source": [
    "plt.figure(figsize=(6, 6))\n",
    "plt.scatter(X_grid[S[:20], 0], X_grid[S[:20], 1])\n",
    "plt.grid(True)\n",
    "plt.tight_layout()\n",
    "plt.show()"
   ]
  },
  {
   "cell_type": "code",
   "execution_count": null,
   "id": "9bf9a5d9",
   "metadata": {},
   "outputs": [],
   "source": [
    "def sample_int():\n",
    "    return np.random.rand(2)\n",
    "\n",
    "def sample_bdy():\n",
    "    side = np.random.choice(4)\n",
    "    t = np.random.rand()\n",
    "    if side == 0:      # bottom edge: (t, 0)\n",
    "        return np.array([t, 0.0])\n",
    "    elif side == 1:    # right edge: (1, t)\n",
    "        return np.array([1.0, t])\n",
    "    elif side == 2:    # top edge: (t, 1)\n",
    "        return np.array([t, 1.0])\n",
    "    else:              # left edge: (0, t)\n",
    "        return np.array([0.0, t])\n",
    "\n",
    "def rpcq_unit_square(n, k, sample_int):\n",
    "    L = jnp.zeros((n, n))\n",
    "    S = []  # list of selected 2D points\n",
    "    i = 0\n",
    "    trials = 0\n",
    "    k_vec = vmap(k, in_axes=(0, None))\n",
    "\n",
    "    while i < n:\n",
    "        trials += 1\n",
    "\n",
    "        # Sample point uniformly from [0, 1]^2\n",
    "        xi = sample_int()\n",
    "\n",
    "        if len(S) == 0:\n",
    "            d = k(xi, xi)\n",
    "            c = jnp.array([])\n",
    "        else:\n",
    "            Xs = jnp.stack(S)\n",
    "            Ks_si = k_vec(Xs, xi)\n",
    "            c = solve_triangular(L[:i, :i], Ks_si, lower=True)\n",
    "            d = k(xi, xi) - jnp.dot(c, c)\n",
    "\n",
    "        # Rejection sampling\n",
    "        U = np.random.rand()\n",
    "        if U < d / k(xi, xi):\n",
    "            print(i + 1, \"point:\", trials, \"trials\")\n",
    "            S.append(xi)\n",
    "            L = L.at[i, :i].set(c)\n",
    "            L = L.at[i, i].set(jnp.sqrt(d))\n",
    "            i += 1\n",
    "            trials = 0\n",
    "\n",
    "    return L, jnp.stack(S)"
   ]
  },
  {
   "cell_type": "code",
   "execution_count": null,
   "id": "cbe4b849",
   "metadata": {},
   "outputs": [
    {
     "name": "stdout",
     "output_type": "stream",
     "text": [
      "0 th point: 1 trials\n",
      "1 th point: 1 trials\n",
      "2 th point: 1 trials\n",
      "3 th point: 1 trials\n",
      "4 th point: 1 trials\n",
      "5 th point: 1 trials\n",
      "6 th point: 1 trials\n",
      "7 th point: 1 trials\n",
      "8 th point: 1 trials\n",
      "9 th point: 1 trials\n",
      "10 th point: 1 trials\n",
      "11 th point: 2 trials\n",
      "12 th point: 1 trials\n",
      "13 th point: 1 trials\n",
      "14 th point: 1 trials\n",
      "15 th point: 1 trials\n",
      "16 th point: 1 trials\n",
      "17 th point: 1 trials\n",
      "18 th point: 2 trials\n",
      "19 th point: 2 trials\n",
      "20 th point: 2 trials\n",
      "21 th point: 1 trials\n",
      "22 th point: 10 trials\n",
      "23 th point: 5 trials\n",
      "24 th point: 1 trials\n",
      "25 th point: 1 trials\n",
      "26 th point: 2 trials\n",
      "27 th point: 1 trials\n",
      "28 th point: 3 trials\n",
      "29 th point: 1 trials\n",
      "30 th point: 1 trials\n",
      "31 th point: 1 trials\n",
      "32 th point: 1 trials\n",
      "33 th point: 2 trials\n",
      "34 th point: 2 trials\n",
      "35 th point: 9 trials\n",
      "36 th point: 3 trials\n",
      "37 th point: 6 trials\n",
      "38 th point: 2 trials\n",
      "39 th point: 1 trials\n",
      "40 th point: 7 trials\n",
      "41 th point: 3 trials\n",
      "42 th point: 4 trials\n",
      "43 th point: 1 trials\n",
      "44 th point: 9 trials\n",
      "45 th point: 4 trials\n",
      "46 th point: 3 trials\n",
      "47 th point: 2 trials\n",
      "48 th point: 6 trials\n",
      "49 th point: 5 trials\n",
      "50 th point: 20 trials\n",
      "51 th point: 2 trials\n",
      "52 th point: 39 trials\n",
      "53 th point: 6 trials\n",
      "54 th point: 102 trials\n",
      "55 th point: 8 trials\n",
      "56 th point: 26 trials\n",
      "57 th point: 24 trials\n",
      "58 th point: 12 trials\n",
      "59 th point: 62 trials\n",
      "60 th point: 13 trials\n",
      "61 th point: 16 trials\n",
      "62 th point: 27 trials\n",
      "63 th point: 23 trials\n",
      "64 th point: 22 trials\n",
      "65 th point: 94 trials\n",
      "66 th point: 20 trials\n",
      "67 th point: 40 trials\n",
      "68 th point: 14 trials\n",
      "69 th point: 146 trials\n",
      "70 th point: 86 trials\n",
      "71 th point: 37 trials\n",
      "72 th point: 29 trials\n",
      "73 th point: 5 trials\n",
      "74 th point: 83 trials\n",
      "75 th point: 138 trials\n",
      "76 th point: 9 trials\n",
      "77 th point: 270 trials\n",
      "78 th point: 31 trials\n",
      "79 th point: 110 trials\n",
      "80 th point: 3 trials\n",
      "81 th point: 36 trials\n",
      "82 th point: 256 trials\n",
      "83 th point: 359 trials\n",
      "84 th point: 97 trials\n",
      "85 th point: 74 trials\n",
      "86 th point: 53 trials\n",
      "87 th point: 184 trials\n",
      "88 th point: 322 trials\n",
      "89 th point: 94 trials\n",
      "90 th point: 355 trials\n",
      "91 th point: 25 trials\n",
      "92 th point: 681 trials\n",
      "93 th point: 370 trials\n",
      "94 th point: 505 trials\n",
      "95 th point: 236 trials\n",
      "96 th point: 1802 trials\n",
      "97 th point: 726 trials\n",
      "98 th point: 980 trials\n",
      "99 th point: 77 trials\n"
     ]
    }
   ],
   "source": [
    "L, points = rpcq_unit_square(100, lapx_lapy, sample_int)"
   ]
  },
  {
   "cell_type": "code",
   "execution_count": null,
   "id": "e2cb1de3",
   "metadata": {},
   "outputs": [
    {
     "ename": "NameError",
     "evalue": "name 'points' is not defined",
     "output_type": "error",
     "traceback": [
      "\u001b[1;31m---------------------------------------------------------------------------\u001b[0m",
      "\u001b[1;31mNameError\u001b[0m                                 Traceback (most recent call last)",
      "Cell \u001b[1;32mIn[39], line 2\u001b[0m\n\u001b[0;32m      1\u001b[0m plt\u001b[38;5;241m.\u001b[39mfigure(figsize\u001b[38;5;241m=\u001b[39m(\u001b[38;5;241m6\u001b[39m, \u001b[38;5;241m6\u001b[39m))\n\u001b[1;32m----> 2\u001b[0m plt\u001b[38;5;241m.\u001b[39mscatter(points[:, \u001b[38;5;241m0\u001b[39m], points[:, \u001b[38;5;241m1\u001b[39m], color\u001b[38;5;241m=\u001b[39m\u001b[38;5;124m'\u001b[39m\u001b[38;5;124mred\u001b[39m\u001b[38;5;124m'\u001b[39m, label\u001b[38;5;241m=\u001b[39m\u001b[38;5;124m\"\u001b[39m\u001b[38;5;124mSelected Points\u001b[39m\u001b[38;5;124m\"\u001b[39m, zorder\u001b[38;5;241m=\u001b[39m\u001b[38;5;241m5\u001b[39m)\n\u001b[0;32m      3\u001b[0m plt\u001b[38;5;241m.\u001b[39mxlabel(\u001b[38;5;124m\"\u001b[39m\u001b[38;5;124mx\u001b[39m\u001b[38;5;124m\"\u001b[39m)\n\u001b[0;32m      4\u001b[0m plt\u001b[38;5;241m.\u001b[39mlegend()\n",
      "\u001b[1;31mNameError\u001b[0m: name 'points' is not defined"
     ]
    },
    {
     "data": {
      "text/plain": [
       "<Figure size 600x600 with 0 Axes>"
      ]
     },
     "metadata": {},
     "output_type": "display_data"
    }
   ],
   "source": [
    "plt.figure(figsize=(6, 6))\n",
    "plt.scatter(points[:, 0], points[:, 1], color='red', label=\"Selected Points\", zorder=5)\n",
    "plt.xlabel(\"x\")\n",
    "plt.legend()\n",
    "plt.grid(True)\n",
    "plt.tight_layout()\n",
    "plt.show()"
   ]
  },
  {
   "cell_type": "code",
   "execution_count": null,
   "id": "e4d737c9",
   "metadata": {},
   "outputs": [],
   "source": [
    "def rpcq_square_bdy(num_int, num_bdy, k_int, k_int_bdy, k_bdy, sample_int, sample_bdy):\n",
    "    L = jnp.zeros((num_int + num_bdy, num_int + num_bdy))\n",
    "    S = []  # list of selected 2D points\n",
    "    i = 0\n",
    "    trial = 0\n",
    "    k_int_vec = vmap(k_int, in_axes=(0, None))\n",
    "    k_bdy_vec = vmap(k_bdy, in_axes=(0, None))\n",
    "    k_int_bdy_vec = vmap(k_int_bdy, in_axes=(0, None))\n",
    "\n",
    "\n",
    "    while i < num_int:\n",
    "        trial += 1\n",
    "        # Sample point uniformly from [0, 1]^2\n",
    "        xi = sample_int()\n",
    "\n",
    "        if len(S) == 0:\n",
    "            d = k_int(xi, xi)\n",
    "            c = jnp.array([])\n",
    "        else:\n",
    "            Xs = jnp.stack(S)\n",
    "            Ks_si = k_int_vec(Xs, xi)\n",
    "            c = solve_triangular(L[:i, :i], Ks_si, lower=True)\n",
    "            d = k_int(xi, xi) - jnp.dot(c, c)\n",
    "\n",
    "        # Rejection sampling\n",
    "        U = np.random.rand()\n",
    "        if U < d / k_int(xi, xi):\n",
    "            print(\"Int. point\",i + 1, \":\", trial, \"trials\")\n",
    "            S.append(xi)\n",
    "            L = L.at[i, :i].set(c)\n",
    "            L = L.at[i, i].set(jnp.sqrt(d))\n",
    "            i += 1\n",
    "            trial = 0\n",
    "    \n",
    "    while i < num_int + num_bdy:\n",
    "        trial += 1\n",
    "        xi = sample_bdy()\n",
    "        Xs = jnp.stack(S)\n",
    "        # Evaluate cross-kernel entries\n",
    "        K_int_part = k_int_bdy_vec(Xs[:num_int], xi)\n",
    "        K_bdy_part = k_bdy_vec(Xs[num_int:i], xi)\n",
    "        Ks_si = jnp.concatenate([K_int_part, K_bdy_part])\n",
    "        c = solve_triangular(L[:i, :i], Ks_si, lower=True)\n",
    "        d = k_bdy(xi, xi) - jnp.dot(c, c)\n",
    "\n",
    "        # Rejection sampling\n",
    "        U = np.random.rand()\n",
    "        if U < d / k_bdy(xi, xi):\n",
    "            print(\"Bdy. point\",i - num_int + 1, \":\", trial, \"trials\")\n",
    "            S.append(xi)\n",
    "            L = L.at[i, :i].set(c)\n",
    "            L = L.at[i, i].set(jnp.sqrt(d))\n",
    "            i += 1\n",
    "            trial = 0\n",
    "\n",
    "    X_int = S[:num_int]\n",
    "    X_bdy = S[num_int:]\n",
    "\n",
    "    return L, jnp.array(X_int), jnp.array(X_bdy)"
   ]
  },
  {
   "cell_type": "code",
   "execution_count": null,
   "id": "389e1823",
   "metadata": {},
   "outputs": [
    {
     "name": "stdout",
     "output_type": "stream",
     "text": [
      "Int. point 1 : 1 iterations\n",
      "Int. point 2 : 1 iterations\n",
      "Int. point 3 : 1 iterations\n",
      "Int. point 4 : 1 iterations\n",
      "Int. point 5 : 1 iterations\n",
      "Int. point 6 : 1 iterations\n",
      "Int. point 7 : 1 iterations\n",
      "Int. point 8 : 4 iterations\n",
      "Int. point 9 : 1 iterations\n",
      "Int. point 10 : 2 iterations\n",
      "Int. point 11 : 3 iterations\n",
      "Int. point 12 : 2 iterations\n",
      "Int. point 13 : 3 iterations\n",
      "Int. point 14 : 6 iterations\n",
      "Int. point 15 : 1 iterations\n",
      "Int. point 16 : 3 iterations\n",
      "Int. point 17 : 3 iterations\n",
      "Int. point 18 : 2 iterations\n",
      "Int. point 19 : 2 iterations\n",
      "Int. point 20 : 2 iterations\n",
      "Int. point 21 : 3 iterations\n",
      "Int. point 22 : 10 iterations\n",
      "Int. point 23 : 7 iterations\n",
      "Int. point 24 : 2 iterations\n",
      "Int. point 25 : 9 iterations\n",
      "Int. point 26 : 1 iterations\n",
      "Int. point 27 : 14 iterations\n",
      "Int. point 28 : 5 iterations\n",
      "Int. point 29 : 11 iterations\n",
      "Int. point 30 : 14 iterations\n",
      "Int. point 31 : 4 iterations\n",
      "Int. point 32 : 1 iterations\n",
      "Int. point 33 : 8 iterations\n",
      "Int. point 34 : 5 iterations\n",
      "Int. point 35 : 10 iterations\n",
      "Int. point 36 : 6 iterations\n",
      "Int. point 37 : 1 iterations\n",
      "Int. point 38 : 12 iterations\n",
      "Int. point 39 : 57 iterations\n",
      "Int. point 40 : 38 iterations\n",
      "Int. point 41 : 6 iterations\n",
      "Int. point 42 : 17 iterations\n",
      "Int. point 43 : 209 iterations\n",
      "Int. point 44 : 29 iterations\n",
      "Int. point 45 : 75 iterations\n",
      "Int. point 46 : 28 iterations\n",
      "Int. point 47 : 56 iterations\n",
      "Int. point 48 : 76 iterations\n",
      "Int. point 49 : 12 iterations\n",
      "Int. point 50 : 56 iterations\n",
      "Bdy. point 1 : 1 iterations\n",
      "Bdy. point 2 : 1 iterations\n",
      "Bdy. point 3 : 3 iterations\n",
      "Bdy. point 4 : 2 iterations\n",
      "Bdy. point 5 : 6 iterations\n",
      "Bdy. point 6 : 7 iterations\n",
      "Bdy. point 7 : 40 iterations\n",
      "Bdy. point 8 : 1 iterations\n",
      "Bdy. point 9 : 29 iterations\n",
      "Bdy. point 10 : 13 iterations\n",
      "Bdy. point 11 : 8 iterations\n",
      "Bdy. point 12 : 9 iterations\n",
      "Bdy. point 13 : 12 iterations\n",
      "Bdy. point 14 : 74 iterations\n",
      "Bdy. point 15 : 183 iterations\n",
      "Bdy. point 16 : 286 iterations\n",
      "Bdy. point 17 : 119 iterations\n",
      "Bdy. point 18 : 236 iterations\n",
      "Bdy. point 19 : 157 iterations\n",
      "Bdy. point 20 : 1399 iterations\n"
     ]
    }
   ],
   "source": [
    "n_int = 50 \n",
    "n_bdy = 20\n",
    "L2, S_int, S_bdy = rpcq_square_bdy(n_int, n_bdy, lapx_lapy, lapx, k, sample_int, sample_bdy)\n"
   ]
  },
  {
   "cell_type": "code",
   "execution_count": null,
   "id": "cdf06fb6",
   "metadata": {},
   "outputs": [
    {
     "ename": "NameError",
     "evalue": "name 'S_int' is not defined",
     "output_type": "error",
     "traceback": [
      "\u001b[1;31m---------------------------------------------------------------------------\u001b[0m",
      "\u001b[1;31mNameError\u001b[0m                                 Traceback (most recent call last)",
      "Cell \u001b[1;32mIn[41], line 2\u001b[0m\n\u001b[0;32m      1\u001b[0m plt\u001b[38;5;241m.\u001b[39mfigure(figsize\u001b[38;5;241m=\u001b[39m(\u001b[38;5;241m10\u001b[39m, \u001b[38;5;241m5\u001b[39m))\n\u001b[1;32m----> 2\u001b[0m plt\u001b[38;5;241m.\u001b[39mscatter(S_int[:, \u001b[38;5;241m0\u001b[39m], S_int[:, \u001b[38;5;241m1\u001b[39m])\n\u001b[0;32m      3\u001b[0m plt\u001b[38;5;241m.\u001b[39mscatter(S_bdy[:, \u001b[38;5;241m0\u001b[39m], S_bdy[:, \u001b[38;5;241m1\u001b[39m ])\n\u001b[0;32m      4\u001b[0m plt\u001b[38;5;241m.\u001b[39mxlabel(\u001b[38;5;124m\"\u001b[39m\u001b[38;5;124mx\u001b[39m\u001b[38;5;124m\"\u001b[39m)\n",
      "\u001b[1;31mNameError\u001b[0m: name 'S_int' is not defined"
     ]
    },
    {
     "data": {
      "text/plain": [
       "<Figure size 1000x500 with 0 Axes>"
      ]
     },
     "metadata": {},
     "output_type": "display_data"
    }
   ],
   "source": [
    "plt.figure(figsize=(10, 5))\n",
    "plt.scatter(S_int[:, 0], S_int[:, 1])\n",
    "plt.scatter(S_bdy[:, 0], S_bdy[:, 1 ])\n",
    "plt.xlabel(\"x\")\n",
    "plt.grid(True)\n",
    "plt.tight_layout()\n",
    "plt.show()"
   ]
  },
  {
   "cell_type": "code",
   "execution_count": null,
   "id": "ca6e5c6a",
   "metadata": {},
   "outputs": [
    {
     "name": "stdout",
     "output_type": "stream",
     "text": [
      "1.8189894035458565e-12\n"
     ]
    }
   ],
   "source": [
    "K_11 = vec_lapx_lapy(S_int, S_int)\n",
    "K_12 = vec_lapx(S_int, S_bdy)\n",
    "K_21 = jnp.copy(K_12).T\n",
    "K_22 = vec_k(S_bdy, S_bdy)\n",
    "\n",
    "K = jnp.block([\n",
    "    [K_11, K_12],\n",
    "    [K_21, K_22]\n",
    "    ])\n",
    "\n",
    "print(np.max(abs(L2@L2.T - K)))"
   ]
  }
 ],
 "metadata": {
  "kernelspec": {
   "display_name": "base",
   "language": "python",
   "name": "python3"
  },
  "language_info": {
   "codemirror_mode": {
    "name": "ipython",
    "version": 3
   },
   "file_extension": ".py",
   "mimetype": "text/x-python",
   "name": "python",
   "nbconvert_exporter": "python",
   "pygments_lexer": "ipython3",
   "version": "3.12.7"
  }
 },
 "nbformat": 4,
 "nbformat_minor": 5
}
