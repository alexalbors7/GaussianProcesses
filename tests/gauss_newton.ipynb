{
 "cells": [
  {
   "cell_type": "code",
   "execution_count": 2,
   "id": "3fe7879b",
   "metadata": {},
   "outputs": [],
   "source": [
    "import jax.numpy as jnp\n",
    "import jax\n",
    "from jax import grad, hessian, jacobian, vmap, random\n",
    "import numpy as np\n",
    "import matplotlib.pyplot as plt\n",
    "\n",
    "jax.config.update(\"jax_enable_x64\",True)"
   ]
  },
  {
   "cell_type": "markdown",
   "id": "861934ef",
   "metadata": {},
   "source": [
    "Implement Gauss-Newton Iteration for Nonlinear least-squares: \n",
    "$$ \\mathrm{min}_{z \\in \\Omega} \\hspace{3pt} \\| F(z) - y \\|^2$$\n",
    "\n",
    "Where $F$ is a nonlinear function. Assuming differentiability, we take $$F(z) \\approx F(x) + F'(x)(z - x)$$ and substitute in objective function: $$\\|F(z) - y\\|^2 \\approx \\| F'(x)(z - x) - (y - F(x))\\|^2$$ and since the problem is now linear in $z$, we may simply take the gradient and obtain the normal equations for this linearized case: \n",
    "\n",
    "\n",
    "$$x_{k + 1} = x_k + (F'(x_k)^\\top F'(x_k))^{-1}F'(x_k)^\\top(y - F(x_k))$$\n",
    "\n",
    "and Jax handles Jacobians quite nicely. \n"
   ]
  },
  {
   "cell_type": "markdown",
   "id": "8dbbe55d",
   "metadata": {},
   "source": [
    "Jax's jacobian expects a black-box function f(x) that takes a JAX array x and returns a JAX array y, possibly of different dimensions. Hence, if we start with a multiargument function like f(x, y), we need to wrap it before using jacobian. However, we may still use f(x, y) if we want to treat one of the inputs as constants, by using the argnums parameter.   "
   ]
  },
  {
   "cell_type": "code",
   "execution_count": 3,
   "id": "5111672f",
   "metadata": {},
   "outputs": [
    {
     "name": "stdout",
     "output_type": "stream",
     "text": [
      "[[1. 2. 2.]\n",
      " [4. 0. 4.]]\n",
      "[1. 4.]\n"
     ]
    }
   ],
   "source": [
    "def f(x, y, z):\n",
    "    return jnp.array([\n",
    "        x*y*z,\n",
    "        x**2*z\n",
    "                       ])\n",
    "\n",
    "def fun(x):\n",
    "    return f(x[0], x[1], x[2])\n",
    "\n",
    "# Where to evaluate Jacobians\n",
    "x = jnp.array([2., 1., 1.])\n",
    "\n",
    "fun_jac = jacobian(fun)\n",
    "\n",
    "print(fun_jac(x))\n",
    "\n",
    "# Should be  (yz, xz, xy \\\\ 2xz, 0 , x^2) if computing jacobian wrt to x, y, z\n",
    "\n",
    "# Say we assume y, z are actually constant, so that f(x, y, z) can be though as g(x): R -> R. Then we could also do \n",
    "# In this case we simply differentiate wrt x component by component: Jf = (yz, 2xz)\n",
    "fun_jacx = jacobian(f, argnums=0)\n",
    "\n",
    "print(fun_jacx(x[0], x[1], x[2]))"
   ]
  },
  {
   "cell_type": "markdown",
   "id": "3bf2b745",
   "metadata": {},
   "source": [
    "Having clarified all of this, we may proceed by considering the nonlinear least squares function $ F(z)_i = z[i]^i $ and the solution vector $y[i] = i$ (im so unoriginal lol). This can be easily decoupled, so jacobian is diagonal, etc. "
   ]
  },
  {
   "cell_type": "code",
   "execution_count": 4,
   "id": "5707c08c",
   "metadata": {},
   "outputs": [],
   "source": [
    "def F(x):\n",
    "    return jnp.pow(x, jnp.arange(1, len(x)+1))\n",
    "\n",
    "\n",
    "# Also consider more complicated function:\n",
    "\n",
    "def g(x, y, z):\n",
    "    return jnp.array([\n",
    "        10*jnp.sin(x*y)**2*jnp.cos(z*2), \n",
    "        8*jnp.tanh(x - z + 2*y)/(1 + x**2)\n",
    "    ])\n",
    "\n",
    "def G(x):\n",
    "    return g(x[0], x[1], x[2])\n",
    "\n",
    "F_jac = jacobian(F)\n",
    "\n",
    "x0 = jnp.array([5., 4., 2.])\n",
    "\n",
    "y = jnp.array([1, 2])\n",
    "\n",
    "# Implementing using the Levenberg–Marquardt algorithm, i.e. Gauss-Newton but with a trust region approach. \n",
    "# Higher regularization means more stable, but may take longer to converge \n",
    "\n",
    "def LM(fun,y, max_iters, x0, tol = 1e-8, reg = 1e-10, verbose = False):\n",
    "    errs = []\n",
    "    x = x0\n",
    "    obj_val = jnp.linalg.norm(fun(x) - y)\n",
    "\n",
    "    errs.append(obj_val)\n",
    "    for iter in range(max_iters):\n",
    "        \n",
    "        Jac = jacobian(fun)(x)\n",
    "\n",
    "        x = x + jnp.linalg.solve(Jac.T @ Jac + reg*jnp.eye(len(x)), Jac.T @ (y - fun(x)))\n",
    "\n",
    "        obj_val = jnp.linalg.norm(fun(x) - y)\n",
    "        errs.append(obj_val)\n",
    "        if verbose: print(iter, obj_val)\n",
    "        if jnp.linalg.norm(fun(x) - y) < tol:\n",
    "            return x, errs\n",
    "\n",
    "    return x, errs"
   ]
  },
  {
   "cell_type": "code",
   "execution_count": 13,
   "id": "16e91bfb",
   "metadata": {},
   "outputs": [
    {
     "name": "stdout",
     "output_type": "stream",
     "text": [
      "0 2.138263166174813\n",
      "1 2.81382966514309\n",
      "2 7.054661211988842\n",
      "3 7.70495425773606\n",
      "4 6.670984367802405\n",
      "5 6.909422863607649\n",
      "6 5.577988965590038\n",
      "7 4.621539751175753\n",
      "8 2.10318483604333\n",
      "9 2.4921100804806127\n",
      "10 2.127595337675866\n",
      "11 9.197576891053192\n",
      "12 8.692432418630812\n",
      "13 5.936358808190401\n",
      "14 7.75171825564723\n",
      "15 4.796215487889961\n",
      "16 4.067953474450354\n",
      "17 2.0069290473151944\n",
      "18 2.604225069885318\n",
      "19 3.535762856043449\n",
      "20 5.191798383541884\n",
      "21 5.067933619736439\n",
      "22 9.14878265575898\n",
      "23 8.382265839201366\n",
      "24 5.339494620064843\n",
      "25 8.413140831814037\n",
      "26 2.224248376121582\n",
      "27 2.168301518785661\n",
      "28 4.598588299597969\n",
      "29 8.490442000019684\n",
      "30 1.9902813300521431\n",
      "31 9.087043140448753\n",
      "32 8.91747262852353\n",
      "33 2.1894847431197073\n",
      "34 7.581990183937275\n",
      "35 8.3513901703761\n",
      "36 7.7620499710321385\n",
      "37 8.86921224485715\n",
      "38 5.278304195910933\n",
      "39 5.174648512260439\n",
      "40 8.439203715930521\n",
      "41 4.062871457862103\n",
      "42 6.685291573238409\n",
      "43 8.983778214657152\n",
      "44 2.1458069087843517\n",
      "45 8.288447633508001\n",
      "46 9.184924833295076\n",
      "47 8.623061061970894\n",
      "48 8.061361897242925\n",
      "49 9.09703175274696\n",
      "50 8.089313155355484\n",
      "51 9.12378510556967\n",
      "52 8.736962966662901\n",
      "53 4.479847248364013\n",
      "54 8.597409979011795\n",
      "55 8.30179422695659\n",
      "56 9.205396697972485\n",
      "57 2.0402604168956193\n",
      "58 7.3992645389779925\n",
      "59 9.120207279118809\n",
      "60 7.298474483627556\n",
      "61 9.016833837166551\n",
      "62 2.5239982574370603\n",
      "63 7.390323663001817\n",
      "64 5.808212520180872\n",
      "65 3.878214328744302\n",
      "66 10.711457943100005\n",
      "67 2.2759867942550294\n",
      "68 5.373386515223218\n",
      "69 9.017472797722574\n",
      "70 4.224983394900884\n",
      "71 11.102574736191746\n",
      "72 2.7515950760298304\n",
      "73 3.7385205524410337\n",
      "74 2.252154983879455\n",
      "75 8.647240313237624\n",
      "76 5.40783098942543\n",
      "77 8.294933274013754\n",
      "78 1.856161022953381\n",
      "79 9.195936355782909\n",
      "80 1.9304105530349764\n",
      "81 9.699712571317319\n",
      "82 2.64696079317318\n",
      "83 11.013993791749499\n",
      "84 2.3025477271985197\n",
      "85 1.8833093852534974\n",
      "86 2.6976574225854013\n",
      "87 1.0823601503548508\n",
      "88 1.1249753316774849\n",
      "89 1.0057023011280104\n",
      "90 0.9022143779508093\n",
      "91 0.07691462812262187\n",
      "92 0.012830317612291536\n",
      "93 0.0003582231511858274\n",
      "94 9.65859701486733e-07\n",
      "95 1.502113949820927e-08\n",
      "96 1.286870122294176e-09\n",
      "97 1.1552672523436109e-10\n",
      "98 1.037556756931918e-11\n",
      "99 9.48523431744981e-13\n",
      "100 8.381948553566246e-14\n",
      "101 4.0565701944409573e-14\n",
      "102 1.2434815078334318e-13\n",
      "103 2.4317939510327454e-14\n",
      "104 3.1086244689504383e-15\n"
     ]
    }
   ],
   "source": [
    "x, errs = LM(G, y, 200, x0, reg=1e-4, verbose=True, tol=1e-14)"
   ]
  },
  {
   "cell_type": "code",
   "execution_count": 14,
   "id": "e80a00a1",
   "metadata": {},
   "outputs": [
    {
     "data": {
      "image/png": "[encoded data removed]",
      "text/plain": [
       "<Figure size 640x480 with 1 Axes>"
      ]
     },
     "metadata": {},
     "output_type": "display_data"
    }
   ],
   "source": [
    "plt.plot(errs)\n",
    "plt.yscale('log')"
   ]
  },
  {
   "cell_type": "markdown",
   "id": "64a4f483",
   "metadata": {},
   "source": [
    "## RELAXED GAUSS-NEWTON\n",
    "\n",
    "Now if the minimization problem is given by $$ \\min_{z} \\quad z^\\top K^{-1} z + \\frac{1}{\\beta^2} \\|F(z) - y\\|^2$$ after linearizing $F$ we obtain a similar formula for $z$ (actually, also including trust region term coming from an extra penalization of the type $\\lambda \\|z - z_k\\|^2$):\n",
    "$$ z = (\\frac{1}{\\beta^2}J_F^\\top J_F + K_{\\phi, \\phi}^{-1} + \\lambda I)^{-1}\\frac{1}{\\beta^2}J_F^\\top (y - F(z_k))$$\n",
    "where $J_F$ is the Jacobian of $F$."
   ]
  },
  {
   "cell_type": "code",
   "execution_count": null,
   "id": "94e9f422",
   "metadata": {},
   "outputs": [
    {
     "ename": "",
     "evalue": "",
     "output_type": "error",
     "traceback": [
      "\u001b[1;31mThe Kernel crashed while executing code in the current cell or a previous cell. \n",
      "\u001b[1;31mPlease review the code in the cell(s) to identify a possible cause of the failure. \n",
      "\u001b[1;31mClick <a href='https://aka.ms/vscodeJupyterKernelCrash'>here</a> for more info. \n",
      "\u001b[1;31mView Jupyter <a href='command:jupyter.viewOutput'>log</a> for further details."
     ]
    }
   ],
   "source": [
    "def relaxed_LM(K, F ,y, beta, max_iters, x0, tol = 1e-8, reg = 1e-10, verbose = False):\n",
    "    errs = []\n",
    "    x = x0\n",
    "    obj_val = jnp.linalg.norm(F(x) - y)\n",
    "\n",
    "    errs.append(obj_val)\n",
    "    for iter in range(max_iters):\n",
    "        \n",
    "        Jac = jacobian(F)(x)\n",
    "\n",
    "        C = Jac.T @ Jac/beta**2+ reg*jnp.eye(len(x))\n",
    "        x = 1/beta**2 * K @ (Jac.T @ (y - F(x)) - jnp.linalg.solve(jnp.eye(len(x)) + C @ K, K @ Jac.T @ (y - F(x))))\n",
    "\n",
    "        obj_val = jnp.linalg.norm(F(x) - y)\n",
    "        errs.append(obj_val)\n",
    "        if verbose: print(iter, obj_val)\n",
    "        if obj_val < tol:\n",
    "            return x, errs\n",
    "\n",
    "    return x, errs"
   ]
  },
  {
   "cell_type": "code",
   "execution_count": null,
   "id": "57087d72",
   "metadata": {},
   "outputs": [],
   "source": []
  }
 ],
 "metadata": {
  "kernelspec": {
   "display_name": "venv",
   "language": "python",
   "name": "python3"
  },
  "language_info": {
   "codemirror_mode": {
    "name": "ipython",
    "version": 3
   },
   "file_extension": ".py",
   "mimetype": "text/x-python",
   "name": "python",
   "nbconvert_exporter": "python",
   "pygments_lexer": "ipython3",
   "version": "3.13.2"
  }
 },
 "nbformat": 4,
 "nbformat_minor": 5
}
